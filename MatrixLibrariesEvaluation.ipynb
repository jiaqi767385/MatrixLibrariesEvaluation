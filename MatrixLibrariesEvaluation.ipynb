{
 "cells": [
  {
   "cell_type": "markdown",
   "id": "72c442e3",
   "metadata": {},
   "source": [
    "# Apache Commons Math 3.3 API"
   ]
  },
  {
   "cell_type": "markdown",
   "id": "56f4d46d",
   "metadata": {},
   "source": [
    "Linear algebra support in commons-math provides operations on real matrices (both dense and sparse matrices are supported) and vectors. It features basic operations (addition, subtraction ...) and decomposition algorithms that can be used to solve linear systems either in exact sense and in least squares sense."
   ]
  },
  {
   "attachments": {},
   "cell_type": "markdown",
   "id": "15af01b9",
   "metadata": {},
   "source": []
  },
  {
   "cell_type": "markdown",
   "id": "c4b3237a",
   "metadata": {},
   "source": [
    "# Efficient Java Matrix Library (EJML) "
   ]
  },
  {
   "cell_type": "markdown",
   "id": "12a9ce4c",
   "metadata": {},
   "source": [
    "Efficient Java Matrix Library (EJML) is a linear algebra library for manipulating real/complex/dense/sparse matrices, written in 100% Java and has been released under an Apache v2.0 license."
   ]
  },
  {
   "cell_type": "markdown",
   "id": "cf5f7efe",
   "metadata": {},
   "source": [
    "# JAMA"
   ]
  },
  {
   "cell_type": "markdown",
   "id": "e1d99cfe",
   "metadata": {},
   "source": [
    "JAMA is a basic linear algebra package for Java. It provides user-level classes for constructing and manipulating real, dense matrices.The current JAMA deals only with real matrices. <br>\n",
    "JAMA is comprised of six Java classes: Matrix, CholeskyDecomposition, LUDecomposition, QRDecomposition, SingularValueDecomposition and EigenvalueDecomposition.The five decompositions are\n",
    "* Cholesky Decomposition of symmetric, positive definite matrices\n",
    "* LU Decomposition (Gaussian elimination) of rectangular matrices\n",
    "* QR Decomposition of rectangular matrices\n",
    "* Eigenvalue Decomposition of both symmetric and nonsymmetric square matrices\n",
    "* Singular Value Decomposition of rectangular matrices"
   ]
  },
  {
   "cell_type": "code",
   "execution_count": null,
   "id": "315a6eb2",
   "metadata": {},
   "outputs": [],
   "source": []
  }
 ],
 "metadata": {
  "kernelspec": {
   "display_name": "Python 3 (ipykernel)",
   "language": "python",
   "name": "python3"
  },
  "language_info": {
   "codemirror_mode": {
    "name": "ipython",
    "version": 3
   },
   "file_extension": ".py",
   "mimetype": "text/x-python",
   "name": "python",
   "nbconvert_exporter": "python",
   "pygments_lexer": "ipython3",
   "version": "3.9.6"
  }
 },
 "nbformat": 4,
 "nbformat_minor": 5
}
